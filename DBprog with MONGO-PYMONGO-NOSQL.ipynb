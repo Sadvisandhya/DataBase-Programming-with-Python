{
 "cells": [
  {
   "cell_type": "markdown",
   "metadata": {
    "colab_type": "text",
    "id": "o1H-RqvcOlqS"
   },
   "source": [
    "\n",
    "# *Python with MongoDB*"
   ]
  },
  {
   "cell_type": "markdown",
   "metadata": {
    "colab_type": "text",
    "id": "8l7xykqsOlqV"
   },
   "source": [
    "## Introduction to PyMongo"
   ]
  },
  {
   "cell_type": "code",
   "execution_count": 0,
   "metadata": {
    "ExecuteTime": {
     "end_time": "2019-03-24T22:14:31.349107Z",
     "start_time": "2019-03-24T22:14:30.168262Z"
    },
    "colab": {
     "base_uri": "https://localhost:8080/",
     "height": 35
    },
    "colab_type": "code",
    "id": "I_If5AavOlqX",
    "outputId": "79763ba1-7cb7-41a1-d108-73df734bb3e0"
   },
   "outputs": [
    {
     "name": "stdout",
     "output_type": "stream",
     "text": [
      "Mongo version 3.8.0\n"
     ]
    }
   ],
   "source": [
    "from IPython.core.display import display, HTML\n",
    "import pymongo\n",
    "from pymongo import MongoClient\n",
    "print ('Mongo version ' + pymongo.__version__)"
   ]
  },
  {
   "cell_type": "markdown",
   "metadata": {
    "colab_type": "text",
    "id": "ciUSqjd2Olqf"
   },
   "source": [
    "Start the mongod server (if it isn't lready running) by executing  \n",
    "`mongod`  \n",
    "at the command prompt. "
   ]
  },
  {
   "cell_type": "code",
   "execution_count": 0,
   "metadata": {
    "ExecuteTime": {
     "end_time": "2019-03-24T22:14:40.956430Z",
     "start_time": "2019-03-24T22:14:40.943462Z"
    },
    "colab": {},
    "colab_type": "code",
    "id": "D_dhkUeMOlqh"
   },
   "outputs": [],
   "source": [
    "client = MongoClient('localhost', 27017)"
   ]
  },
  {
   "cell_type": "code",
   "execution_count": 0,
   "metadata": {
    "ExecuteTime": {
     "end_time": "2019-03-24T22:14:52.962169Z",
     "start_time": "2019-03-24T22:14:52.948208Z"
    },
    "colab": {},
    "colab_type": "code",
    "id": "IUYRB8ZiOlqu",
    "outputId": "dd7efe50-3cc7-4e25-e406-bee0db03b334"
   },
   "outputs": [
    {
     "data": {
      "text/plain": [
       "Collection(Database(MongoClient(host=['localhost:27017'], document_class=dict, tz_aware=False, connect=True), 'test'), 'drop')"
      ]
     },
     "execution_count": 6,
     "metadata": {
      "tags": []
     },
     "output_type": "execute_result"
    }
   ],
   "source": [
    "client.test.drop"
   ]
  },
  {
   "cell_type": "code",
   "execution_count": 0,
   "metadata": {
    "ExecuteTime": {
     "end_time": "2019-03-24T22:15:05.885075Z",
     "start_time": "2019-03-24T22:15:05.879118Z"
    },
    "colab": {},
    "colab_type": "code",
    "id": "WhR4qszuOlqz",
    "outputId": "d49d04c5-5fcd-41e7-c916-535cc5d4f220"
   },
   "outputs": [
    {
     "data": {
      "text/plain": [
       "Collection(Database(MongoClient(host=['localhost:27017'], document_class=dict, tz_aware=False, connect=True), 'mydatabase'), 'drop')"
      ]
     },
     "execution_count": 7,
     "metadata": {
      "tags": []
     },
     "output_type": "execute_result"
    }
   ],
   "source": [
    "# Drop database \"mydatabase\" before creating it below: \n",
    "client.mydatabase.drop"
   ]
  },
  {
   "cell_type": "markdown",
   "metadata": {
    "colab_type": "text",
    "id": "sYBQLBZQOlq2"
   },
   "source": [
    "Create a new database:"
   ]
  },
  {
   "cell_type": "code",
   "execution_count": 0,
   "metadata": {
    "ExecuteTime": {
     "end_time": "2019-03-24T22:15:09.098168Z",
     "start_time": "2019-03-24T22:15:09.093147Z"
    },
    "colab": {},
    "colab_type": "code",
    "id": "VVHelaZ6Olq3"
   },
   "outputs": [],
   "source": [
    "mydb = client[\"mydatabase\"]"
   ]
  },
  {
   "cell_type": "markdown",
   "metadata": {
    "colab_type": "text",
    "id": "YIu0V2nDOlq6"
   },
   "source": [
    "Confirm that the database exists ... \n",
    "\n",
    "- list all databases in your system:"
   ]
  },
  {
   "cell_type": "code",
   "execution_count": 0,
   "metadata": {
    "ExecuteTime": {
     "end_time": "2019-03-24T22:15:13.133665Z",
     "start_time": "2019-03-24T22:15:13.117707Z"
    },
    "colab": {},
    "colab_type": "code",
    "id": "LnP7erJ0Olq7",
    "outputId": "48cff031-7126-4239-e8ee-42e064928e64"
   },
   "outputs": [
    {
     "name": "stdout",
     "output_type": "stream",
     "text": [
      "['admin', 'config', 'local']\n"
     ]
    }
   ],
   "source": [
    "\n",
    "print(client.list_database_names())"
   ]
  },
  {
   "cell_type": "markdown",
   "metadata": {
    "colab_type": "text",
    "id": "c1KdFy5BOlq9"
   },
   "source": [
    "- check for the database by name:"
   ]
  },
  {
   "cell_type": "code",
   "execution_count": 0,
   "metadata": {
    "ExecuteTime": {
     "end_time": "2019-03-24T22:15:22.438669Z",
     "start_time": "2019-03-24T22:15:22.432683Z"
    },
    "colab": {},
    "colab_type": "code",
    "id": "060gEhoYOlq9"
   },
   "outputs": [],
   "source": [
    "\n",
    "dblist = client.list_database_names()\n",
    "if \"mydatabase\" in dblist:\n",
    "  print(\"The database exists.\")"
   ]
  },
  {
   "cell_type": "markdown",
   "metadata": {
    "colab_type": "text",
    "id": "CLEmzhIDOlq_"
   },
   "source": [
    "If the new database was never created before, it will not be found because mongodb is lazy: the db won't get created until data has been written to it!"
   ]
  },
  {
   "cell_type": "markdown",
   "metadata": {
    "colab_type": "text",
    "id": "MrzBwpbsOlq_"
   },
   "source": [
    "Create a collection called \"customers\" (with object name `mycol`):"
   ]
  },
  {
   "cell_type": "code",
   "execution_count": 0,
   "metadata": {
    "ExecuteTime": {
     "end_time": "2019-03-24T22:15:31.307506Z",
     "start_time": "2019-03-24T22:15:31.303517Z"
    },
    "colab": {},
    "colab_type": "code",
    "id": "toIXLCsqOlrA"
   },
   "outputs": [],
   "source": [
    "\n",
    "mycol = mydb[\"customers\"]"
   ]
  },
  {
   "cell_type": "markdown",
   "metadata": {
    "colab_type": "text",
    "id": "Q6QgICmtOlrB"
   },
   "source": [
    "Create a document (i.e. a dictionary) with two name:value items \n",
    "(\"name\" = \"John\", and \"address\" = \"Highway 37\") and insert \n",
    "it into the \"customers\" collection: "
   ]
  },
  {
   "cell_type": "code",
   "execution_count": 0,
   "metadata": {
    "ExecuteTime": {
     "end_time": "2019-03-24T22:15:39.096257Z",
     "start_time": "2019-03-24T22:15:39.039377Z"
    },
    "colab": {},
    "colab_type": "code",
    "id": "uGNSTI8tOlrC"
   },
   "outputs": [],
   "source": [
    "\n",
    "mydict = { \"name\": \"John\", \"address\": \"Highway 37\" }\n",
    "x = mycol.insert_one(mydict)"
   ]
  },
  {
   "cell_type": "markdown",
   "metadata": {
    "colab_type": "text",
    "id": "HeB7910DOlrD"
   },
   "source": [
    "Now test for the existence of the database:"
   ]
  },
  {
   "cell_type": "code",
   "execution_count": 0,
   "metadata": {
    "ExecuteTime": {
     "end_time": "2019-03-24T22:15:43.901716Z",
     "start_time": "2019-03-24T22:15:43.894735Z"
    },
    "colab": {},
    "colab_type": "code",
    "id": "JuEccLJPOlrE",
    "outputId": "e19abf93-0d45-42ae-c6a5-75e94228d57b"
   },
   "outputs": [
    {
     "name": "stdout",
     "output_type": "stream",
     "text": [
      "['admin', 'config', 'local', 'mydatabase']\n"
     ]
    }
   ],
   "source": [
    "print(client.list_database_names())"
   ]
  },
  {
   "cell_type": "markdown",
   "metadata": {
    "colab_type": "text",
    "id": "RWVxjEnfOlrF"
   },
   "source": [
    "List all collections in the database:"
   ]
  },
  {
   "cell_type": "code",
   "execution_count": 0,
   "metadata": {
    "ExecuteTime": {
     "end_time": "2019-03-24T22:15:46.751195Z",
     "start_time": "2019-03-24T22:15:46.744212Z"
    },
    "colab": {},
    "colab_type": "code",
    "id": "PpHoea4LOlrG",
    "outputId": "820c185b-7453-4406-ed9e-fd39bf548bc9"
   },
   "outputs": [
    {
     "name": "stdout",
     "output_type": "stream",
     "text": [
      "['customers']\n"
     ]
    }
   ],
   "source": [
    "\n",
    "print(mydb.list_collection_names())"
   ]
  },
  {
   "cell_type": "markdown",
   "metadata": {
    "colab_type": "text",
    "id": "anXA8cdkOlrH"
   },
   "source": [
    "Insert another record in the \"customers\" collection \n",
    "(\"name\" = \"Peter\", \"address\" = \"Lowstreet 27\") \n",
    "and return the value of the _id field:"
   ]
  },
  {
   "cell_type": "code",
   "execution_count": 0,
   "metadata": {
    "ExecuteTime": {
     "end_time": "2019-03-24T22:15:49.809063Z",
     "start_time": "2019-03-24T22:15:49.802056Z"
    },
    "colab": {},
    "colab_type": "code",
    "id": "CCAKygpROlrI",
    "outputId": "bbc91fd7-fe66-4ec2-b3de-c1dbb2aa1b10"
   },
   "outputs": [
    {
     "name": "stdout",
     "output_type": "stream",
     "text": [
      "5c9801953ae8933c509b07c0\n"
     ]
    }
   ],
   "source": [
    "\n",
    "mydict = { \"name\": \"Peter\", \"address\": \"Lowstreet 27\" }\n",
    "x = mycol.insert_one(mydict)\n",
    "print(x.inserted_id)"
   ]
  },
  {
   "cell_type": "markdown",
   "metadata": {
    "colab_type": "text",
    "id": "DxuKvaRsOlrK"
   },
   "source": [
    "Given the list of dicts below, insert multiple documents into \n",
    "the collection using the insert_many() method:"
   ]
  },
  {
   "cell_type": "code",
   "execution_count": 0,
   "metadata": {
    "ExecuteTime": {
     "end_time": "2019-03-24T22:15:56.134300Z",
     "start_time": "2019-03-24T22:15:56.119330Z"
    },
    "colab": {},
    "colab_type": "code",
    "id": "VfO2SSz-OlrL"
   },
   "outputs": [],
   "source": [
    "mylist = [\n",
    "  { \"name\": \"Amy\", \"address\": \"Apple st 652\"},\n",
    "  { \"name\": \"Hannah\", \"address\": \"Mountain 21\"},\n",
    "  { \"name\": \"Michael\", \"address\": \"Valley 345\"},\n",
    "  { \"name\": \"Sandy\", \"address\": \"Ocean blvd 2\"},\n",
    "  { \"name\": \"Betty\", \"address\": \"Green Grass 1\"},\n",
    "  { \"name\": \"Richard\", \"address\": \"Sky st 331\"},\n",
    "  { \"name\": \"Susan\", \"address\": \"One way 98\"},\n",
    "  { \"name\": \"Vicky\", \"address\": \"Yellow Garden 2\"},\n",
    "  { \"name\": \"Ben\", \"address\": \"Park Lane 38\"},\n",
    "  { \"name\": \"William\", \"address\": \"Central st 954\"},\n",
    "  { \"name\": \"Chuck\", \"address\": \"Main Road 989\"},\n",
    "  { \"name\": \"Viola\", \"address\": \"Sideway 1633\"}\n",
    "]"
   ]
  },
  {
   "cell_type": "code",
   "execution_count": 0,
   "metadata": {
    "ExecuteTime": {
     "end_time": "2019-03-24T22:15:58.988124Z",
     "start_time": "2019-03-24T22:15:58.977157Z"
    },
    "colab": {},
    "colab_type": "code",
    "id": "-sZip5ccOlrN"
   },
   "outputs": [],
   "source": [
    "\n",
    "x = mycol.insert_many(mylist)"
   ]
  },
  {
   "cell_type": "markdown",
   "metadata": {
    "colab_type": "text",
    "id": "aFrMRpT5OlrQ"
   },
   "source": [
    "Print a list of the _id values of the inserted documents:"
   ]
  },
  {
   "cell_type": "code",
   "execution_count": 0,
   "metadata": {
    "ExecuteTime": {
     "end_time": "2019-03-24T22:16:01.482463Z",
     "start_time": "2019-03-24T22:16:01.477474Z"
    },
    "colab": {},
    "colab_type": "code",
    "id": "DNEuVh8hOlrS",
    "outputId": "1fd14859-4e91-4776-cb06-e933bcf4aeb5"
   },
   "outputs": [
    {
     "name": "stdout",
     "output_type": "stream",
     "text": [
      "[ObjectId('5c98019e3ae8933c509b07c1'), ObjectId('5c98019e3ae8933c509b07c2'), ObjectId('5c98019e3ae8933c509b07c3'), ObjectId('5c98019e3ae8933c509b07c4'), ObjectId('5c98019e3ae8933c509b07c5'), ObjectId('5c98019e3ae8933c509b07c6'), ObjectId('5c98019e3ae8933c509b07c7'), ObjectId('5c98019e3ae8933c509b07c8'), ObjectId('5c98019e3ae8933c509b07c9'), ObjectId('5c98019e3ae8933c509b07ca'), ObjectId('5c98019e3ae8933c509b07cb'), ObjectId('5c98019e3ae8933c509b07cc')]\n"
     ]
    }
   ],
   "source": [
    "\n",
    "print(x.inserted_ids)"
   ]
  },
  {
   "cell_type": "markdown",
   "metadata": {
    "colab_type": "text",
    "id": "QYSb-6d2OlrU"
   },
   "source": [
    "Execute the next cell to insert a list of dicts with specified `_id`s:"
   ]
  },
  {
   "cell_type": "code",
   "execution_count": 0,
   "metadata": {
    "ExecuteTime": {
     "end_time": "2019-03-24T22:16:08.616644Z",
     "start_time": "2019-03-24T22:16:08.590714Z"
    },
    "colab": {},
    "colab_type": "code",
    "id": "-eoQJLq_OlrV",
    "outputId": "b12417ab-1c14-4fdc-8add-23ff7bfeca24"
   },
   "outputs": [
    {
     "name": "stdout",
     "output_type": "stream",
     "text": [
      "[1, 2, 3, 4, 5, 6, 7, 8, 9, 10, 11, 12, 13, 14]\n"
     ]
    }
   ],
   "source": [
    "mylist = [\n",
    "  { \"_id\": 1, \"name\": \"John\", \"address\": \"Highway 37\"},\n",
    "  { \"_id\": 2, \"name\": \"Peter\", \"address\": \"Lowstreet 27\"},\n",
    "  { \"_id\": 3, \"name\": \"Amy\", \"address\": \"Apple st 652\"},\n",
    "  { \"_id\": 4, \"name\": \"Hannah\", \"address\": \"Mountain 21\"},\n",
    "  { \"_id\": 5, \"name\": \"Michael\", \"address\": \"Valley 345\"},\n",
    "  { \"_id\": 6, \"name\": \"Sandy\", \"address\": \"Ocean blvd 2\"},\n",
    "  { \"_id\": 7, \"name\": \"Betty\", \"address\": \"Green Grass 1\"},\n",
    "  { \"_id\": 8, \"name\": \"Richard\", \"address\": \"Sky st 331\"},\n",
    "  { \"_id\": 9, \"name\": \"Susan\", \"address\": \"One way 98\"},\n",
    "  { \"_id\": 10, \"name\": \"Vicky\", \"address\": \"Yellow Garden 2\"},\n",
    "  { \"_id\": 11, \"name\": \"Ben\", \"address\": \"Park Lane 38\"},\n",
    "  { \"_id\": 12, \"name\": \"William\", \"address\": \"Central st 954\"},\n",
    "  { \"_id\": 13, \"name\": \"Chuck\", \"address\": \"Main Road 989\"},\n",
    "  { \"_id\": 14, \"name\": \"Viola\", \"address\": \"Sideway 1633\"}\n",
    "]\n",
    "x = mycol.insert_many(mylist)\n",
    "print(x.inserted_ids)"
   ]
  },
  {
   "cell_type": "markdown",
   "metadata": {
    "colab_type": "text",
    "id": "TVbH8chqOlrX"
   },
   "source": [
    "Now try inserting a new dict with an existing `_id`:"
   ]
  },
  {
   "cell_type": "code",
   "execution_count": 0,
   "metadata": {
    "ExecuteTime": {
     "end_time": "2019-03-24T22:16:12.128396Z",
     "start_time": "2019-03-24T22:16:12.084511Z"
    },
    "colab": {},
    "colab_type": "code",
    "id": "OdThvW9FOlrY",
    "outputId": "80fb64b4-2798-4fa9-ce1e-ac9fe1fbbdf9"
   },
   "outputs": [
    {
     "ename": "DuplicateKeyError",
     "evalue": "E11000 duplicate key error collection: mydatabase.customers index: _id_ dup key: { : 14 }",
     "output_type": "error",
     "traceback": [
      "\u001b[1;31m---------------------------------------------------------------------------\u001b[0m",
      "\u001b[1;31mDuplicateKeyError\u001b[0m                         Traceback (most recent call last)",
      "\u001b[1;32m<ipython-input-20-d82f481ee344>\u001b[0m in \u001b[0;36m<module>\u001b[1;34m()\u001b[0m\n\u001b[1;32m----> 1\u001b[1;33m \u001b[0mx\u001b[0m \u001b[1;33m=\u001b[0m \u001b[0mmycol\u001b[0m\u001b[1;33m.\u001b[0m\u001b[0minsert_one\u001b[0m\u001b[1;33m(\u001b[0m\u001b[1;33m{\u001b[0m \u001b[1;34m\"_id\"\u001b[0m\u001b[1;33m:\u001b[0m \u001b[1;36m14\u001b[0m\u001b[1;33m,\u001b[0m \u001b[1;34m\"name\"\u001b[0m\u001b[1;33m:\u001b[0m \u001b[1;34m\"Manuel\"\u001b[0m\u001b[1;33m,\u001b[0m \u001b[1;34m\"address\"\u001b[0m\u001b[1;33m:\u001b[0m \u001b[1;34m\"Barcelona\"\u001b[0m\u001b[1;33m}\u001b[0m\u001b[1;33m)\u001b[0m\u001b[1;33m\u001b[0m\u001b[0m\n\u001b[0m",
      "\u001b[1;32mC:\\ProgramData\\Anaconda3\\lib\\site-packages\\pymongo\\collection.py\u001b[0m in \u001b[0;36minsert_one\u001b[1;34m(self, document, bypass_document_validation, session)\u001b[0m\n\u001b[0;32m    691\u001b[0m                          \u001b[0mwrite_concern\u001b[0m\u001b[1;33m=\u001b[0m\u001b[0mwrite_concern\u001b[0m\u001b[1;33m,\u001b[0m\u001b[1;33m\u001b[0m\u001b[0m\n\u001b[0;32m    692\u001b[0m                          \u001b[0mbypass_doc_val\u001b[0m\u001b[1;33m=\u001b[0m\u001b[0mbypass_document_validation\u001b[0m\u001b[1;33m,\u001b[0m\u001b[1;33m\u001b[0m\u001b[0m\n\u001b[1;32m--> 693\u001b[1;33m                          session=session),\n\u001b[0m\u001b[0;32m    694\u001b[0m             write_concern.acknowledged)\n\u001b[0;32m    695\u001b[0m \u001b[1;33m\u001b[0m\u001b[0m\n",
      "\u001b[1;32mC:\\ProgramData\\Anaconda3\\lib\\site-packages\\pymongo\\collection.py\u001b[0m in \u001b[0;36m_insert\u001b[1;34m(self, docs, ordered, check_keys, manipulate, write_concern, op_id, bypass_doc_val, session)\u001b[0m\n\u001b[0;32m    605\u001b[0m             return self._insert_one(\n\u001b[0;32m    606\u001b[0m                 \u001b[0mdocs\u001b[0m\u001b[1;33m,\u001b[0m \u001b[0mordered\u001b[0m\u001b[1;33m,\u001b[0m \u001b[0mcheck_keys\u001b[0m\u001b[1;33m,\u001b[0m \u001b[0mmanipulate\u001b[0m\u001b[1;33m,\u001b[0m \u001b[0mwrite_concern\u001b[0m\u001b[1;33m,\u001b[0m \u001b[0mop_id\u001b[0m\u001b[1;33m,\u001b[0m\u001b[1;33m\u001b[0m\u001b[0m\n\u001b[1;32m--> 607\u001b[1;33m                 bypass_doc_val, session)\n\u001b[0m\u001b[0;32m    608\u001b[0m \u001b[1;33m\u001b[0m\u001b[0m\n\u001b[0;32m    609\u001b[0m         \u001b[0mids\u001b[0m \u001b[1;33m=\u001b[0m \u001b[1;33m[\u001b[0m\u001b[1;33m]\u001b[0m\u001b[1;33m\u001b[0m\u001b[0m\n",
      "\u001b[1;32mC:\\ProgramData\\Anaconda3\\lib\\site-packages\\pymongo\\collection.py\u001b[0m in \u001b[0;36m_insert_one\u001b[1;34m(self, doc, ordered, check_keys, manipulate, write_concern, op_id, bypass_doc_val, session)\u001b[0m\n\u001b[0;32m    593\u001b[0m \u001b[1;33m\u001b[0m\u001b[0m\n\u001b[0;32m    594\u001b[0m         self.__database.client._retryable_write(\n\u001b[1;32m--> 595\u001b[1;33m             acknowledged, _insert_command, session)\n\u001b[0m\u001b[0;32m    596\u001b[0m \u001b[1;33m\u001b[0m\u001b[0m\n\u001b[0;32m    597\u001b[0m         \u001b[1;32mif\u001b[0m \u001b[1;32mnot\u001b[0m \u001b[0misinstance\u001b[0m\u001b[1;33m(\u001b[0m\u001b[0mdoc\u001b[0m\u001b[1;33m,\u001b[0m \u001b[0mRawBSONDocument\u001b[0m\u001b[1;33m)\u001b[0m\u001b[1;33m:\u001b[0m\u001b[1;33m\u001b[0m\u001b[0m\n",
      "\u001b[1;32mC:\\ProgramData\\Anaconda3\\lib\\site-packages\\pymongo\\mongo_client.py\u001b[0m in \u001b[0;36m_retryable_write\u001b[1;34m(self, retryable, func, session)\u001b[0m\n\u001b[0;32m   1246\u001b[0m         \u001b[1;34m\"\"\"Internal retryable write helper.\"\"\"\u001b[0m\u001b[1;33m\u001b[0m\u001b[0m\n\u001b[0;32m   1247\u001b[0m         \u001b[1;32mwith\u001b[0m \u001b[0mself\u001b[0m\u001b[1;33m.\u001b[0m\u001b[0m_tmp_session\u001b[0m\u001b[1;33m(\u001b[0m\u001b[0msession\u001b[0m\u001b[1;33m)\u001b[0m \u001b[1;32mas\u001b[0m \u001b[0ms\u001b[0m\u001b[1;33m:\u001b[0m\u001b[1;33m\u001b[0m\u001b[0m\n\u001b[1;32m-> 1248\u001b[1;33m             \u001b[1;32mreturn\u001b[0m \u001b[0mself\u001b[0m\u001b[1;33m.\u001b[0m\u001b[0m_retry_with_session\u001b[0m\u001b[1;33m(\u001b[0m\u001b[0mretryable\u001b[0m\u001b[1;33m,\u001b[0m \u001b[0mfunc\u001b[0m\u001b[1;33m,\u001b[0m \u001b[0ms\u001b[0m\u001b[1;33m,\u001b[0m \u001b[1;32mNone\u001b[0m\u001b[1;33m)\u001b[0m\u001b[1;33m\u001b[0m\u001b[0m\n\u001b[0m\u001b[0;32m   1249\u001b[0m \u001b[1;33m\u001b[0m\u001b[0m\n\u001b[0;32m   1250\u001b[0m     \u001b[1;32mdef\u001b[0m \u001b[0m__reset_server\u001b[0m\u001b[1;33m(\u001b[0m\u001b[0mself\u001b[0m\u001b[1;33m,\u001b[0m \u001b[0maddress\u001b[0m\u001b[1;33m)\u001b[0m\u001b[1;33m:\u001b[0m\u001b[1;33m\u001b[0m\u001b[0m\n",
      "\u001b[1;32mC:\\ProgramData\\Anaconda3\\lib\\site-packages\\pymongo\\mongo_client.py\u001b[0m in \u001b[0;36m_retry_with_session\u001b[1;34m(self, retryable, func, session, bulk)\u001b[0m\n\u001b[0;32m   1199\u001b[0m                             \u001b[1;32mraise\u001b[0m \u001b[0mlast_error\u001b[0m\u001b[1;33m\u001b[0m\u001b[0m\n\u001b[0;32m   1200\u001b[0m                         \u001b[0mretryable\u001b[0m \u001b[1;33m=\u001b[0m \u001b[1;32mFalse\u001b[0m\u001b[1;33m\u001b[0m\u001b[0m\n\u001b[1;32m-> 1201\u001b[1;33m                     \u001b[1;32mreturn\u001b[0m \u001b[0mfunc\u001b[0m\u001b[1;33m(\u001b[0m\u001b[0msession\u001b[0m\u001b[1;33m,\u001b[0m \u001b[0msock_info\u001b[0m\u001b[1;33m,\u001b[0m \u001b[0mretryable\u001b[0m\u001b[1;33m)\u001b[0m\u001b[1;33m\u001b[0m\u001b[0m\n\u001b[0m\u001b[0;32m   1202\u001b[0m             \u001b[1;32mexcept\u001b[0m \u001b[0mServerSelectionTimeoutError\u001b[0m\u001b[1;33m:\u001b[0m\u001b[1;33m\u001b[0m\u001b[0m\n\u001b[0;32m   1203\u001b[0m                 \u001b[1;32mif\u001b[0m \u001b[0mis_retrying\u001b[0m\u001b[1;33m(\u001b[0m\u001b[1;33m)\u001b[0m\u001b[1;33m:\u001b[0m\u001b[1;33m\u001b[0m\u001b[0m\n",
      "\u001b[1;32mC:\\ProgramData\\Anaconda3\\lib\\site-packages\\pymongo\\collection.py\u001b[0m in \u001b[0;36m_insert_command\u001b[1;34m(session, sock_info, retryable_write)\u001b[0m\n\u001b[0;32m    590\u001b[0m                 retryable_write=retryable_write)\n\u001b[0;32m    591\u001b[0m \u001b[1;33m\u001b[0m\u001b[0m\n\u001b[1;32m--> 592\u001b[1;33m             \u001b[0m_check_write_command_response\u001b[0m\u001b[1;33m(\u001b[0m\u001b[0mresult\u001b[0m\u001b[1;33m)\u001b[0m\u001b[1;33m\u001b[0m\u001b[0m\n\u001b[0m\u001b[0;32m    593\u001b[0m \u001b[1;33m\u001b[0m\u001b[0m\n\u001b[0;32m    594\u001b[0m         self.__database.client._retryable_write(\n",
      "\u001b[1;32mC:\\ProgramData\\Anaconda3\\lib\\site-packages\\pymongo\\helpers.py\u001b[0m in \u001b[0;36m_check_write_command_response\u001b[1;34m(result)\u001b[0m\n\u001b[0;32m    215\u001b[0m     \u001b[0mwrite_errors\u001b[0m \u001b[1;33m=\u001b[0m \u001b[0mresult\u001b[0m\u001b[1;33m.\u001b[0m\u001b[0mget\u001b[0m\u001b[1;33m(\u001b[0m\u001b[1;34m\"writeErrors\"\u001b[0m\u001b[1;33m)\u001b[0m\u001b[1;33m\u001b[0m\u001b[0m\n\u001b[0;32m    216\u001b[0m     \u001b[1;32mif\u001b[0m \u001b[0mwrite_errors\u001b[0m\u001b[1;33m:\u001b[0m\u001b[1;33m\u001b[0m\u001b[0m\n\u001b[1;32m--> 217\u001b[1;33m         \u001b[0m_raise_last_write_error\u001b[0m\u001b[1;33m(\u001b[0m\u001b[0mwrite_errors\u001b[0m\u001b[1;33m)\u001b[0m\u001b[1;33m\u001b[0m\u001b[0m\n\u001b[0m\u001b[0;32m    218\u001b[0m \u001b[1;33m\u001b[0m\u001b[0m\n\u001b[0;32m    219\u001b[0m     \u001b[0merror\u001b[0m \u001b[1;33m=\u001b[0m \u001b[0mresult\u001b[0m\u001b[1;33m.\u001b[0m\u001b[0mget\u001b[0m\u001b[1;33m(\u001b[0m\u001b[1;34m\"writeConcernError\"\u001b[0m\u001b[1;33m)\u001b[0m\u001b[1;33m\u001b[0m\u001b[0m\n",
      "\u001b[1;32mC:\\ProgramData\\Anaconda3\\lib\\site-packages\\pymongo\\helpers.py\u001b[0m in \u001b[0;36m_raise_last_write_error\u001b[1;34m(write_errors)\u001b[0m\n\u001b[0;32m    196\u001b[0m     \u001b[0merror\u001b[0m \u001b[1;33m=\u001b[0m \u001b[0mwrite_errors\u001b[0m\u001b[1;33m[\u001b[0m\u001b[1;33m-\u001b[0m\u001b[1;36m1\u001b[0m\u001b[1;33m]\u001b[0m\u001b[1;33m\u001b[0m\u001b[0m\n\u001b[0;32m    197\u001b[0m     \u001b[1;32mif\u001b[0m \u001b[0merror\u001b[0m\u001b[1;33m.\u001b[0m\u001b[0mget\u001b[0m\u001b[1;33m(\u001b[0m\u001b[1;34m\"code\"\u001b[0m\u001b[1;33m)\u001b[0m \u001b[1;33m==\u001b[0m \u001b[1;36m11000\u001b[0m\u001b[1;33m:\u001b[0m\u001b[1;33m\u001b[0m\u001b[0m\n\u001b[1;32m--> 198\u001b[1;33m         \u001b[1;32mraise\u001b[0m \u001b[0mDuplicateKeyError\u001b[0m\u001b[1;33m(\u001b[0m\u001b[0merror\u001b[0m\u001b[1;33m.\u001b[0m\u001b[0mget\u001b[0m\u001b[1;33m(\u001b[0m\u001b[1;34m\"errmsg\"\u001b[0m\u001b[1;33m)\u001b[0m\u001b[1;33m,\u001b[0m \u001b[1;36m11000\u001b[0m\u001b[1;33m,\u001b[0m \u001b[0merror\u001b[0m\u001b[1;33m)\u001b[0m\u001b[1;33m\u001b[0m\u001b[0m\n\u001b[0m\u001b[0;32m    199\u001b[0m     \u001b[1;32mraise\u001b[0m \u001b[0mWriteError\u001b[0m\u001b[1;33m(\u001b[0m\u001b[0merror\u001b[0m\u001b[1;33m.\u001b[0m\u001b[0mget\u001b[0m\u001b[1;33m(\u001b[0m\u001b[1;34m\"errmsg\"\u001b[0m\u001b[1;33m)\u001b[0m\u001b[1;33m,\u001b[0m \u001b[0merror\u001b[0m\u001b[1;33m.\u001b[0m\u001b[0mget\u001b[0m\u001b[1;33m(\u001b[0m\u001b[1;34m\"code\"\u001b[0m\u001b[1;33m)\u001b[0m\u001b[1;33m,\u001b[0m \u001b[0merror\u001b[0m\u001b[1;33m)\u001b[0m\u001b[1;33m\u001b[0m\u001b[0m\n\u001b[0;32m    200\u001b[0m \u001b[1;33m\u001b[0m\u001b[0m\n",
      "\u001b[1;31mDuplicateKeyError\u001b[0m: E11000 duplicate key error collection: mydatabase.customers index: _id_ dup key: { : 14 }"
     ]
    }
   ],
   "source": [
    "x = mycol.insert_one({ \"_id\": 14, \"name\": \"Manuel\", \"address\": \"Barcelona\"})"
   ]
  },
  {
   "cell_type": "markdown",
   "metadata": {
    "colab_type": "text",
    "id": "oK1xu8ZiOlra"
   },
   "source": [
    "So, if we want to manage `_id`s in code, we need to be careful!"
   ]
  },
  {
   "cell_type": "markdown",
   "metadata": {
    "colab_type": "text",
    "id": "z-YuOZ43Olrb"
   },
   "source": [
    "This returns the first document in the collection:"
   ]
  },
  {
   "cell_type": "code",
   "execution_count": 0,
   "metadata": {
    "ExecuteTime": {
     "end_time": "2019-03-24T22:16:19.282902Z",
     "start_time": "2019-03-24T22:16:19.256973Z"
    },
    "colab": {},
    "colab_type": "code",
    "id": "YP_136L9Olrc",
    "outputId": "e7c548d9-0348-457d-b36b-67b1f9775402"
   },
   "outputs": [
    {
     "name": "stdout",
     "output_type": "stream",
     "text": [
      "{'_id': ObjectId('5c98018b3ae8933c509b07bf'), 'name': 'John', 'address': 'Highway 37'}\n"
     ]
    }
   ],
   "source": [
    "x = mycol.find_one()\n",
    "print(x)"
   ]
  },
  {
   "cell_type": "markdown",
   "metadata": {
    "colab_type": "text",
    "id": "ePjkqPtXOlre"
   },
   "source": [
    "Do the same for the document containing \"name\" = \"Hannah\":"
   ]
  },
  {
   "cell_type": "code",
   "execution_count": 0,
   "metadata": {
    "ExecuteTime": {
     "end_time": "2019-03-24T22:16:22.361259Z",
     "start_time": "2019-03-24T22:16:22.343307Z"
    },
    "colab": {},
    "colab_type": "code",
    "id": "oF36ylyyOlrf",
    "outputId": "1d04f0b2-8b03-4114-ba48-51de8dae7789"
   },
   "outputs": [
    {
     "name": "stdout",
     "output_type": "stream",
     "text": [
      "{'_id': ObjectId('5c98019e3ae8933c509b07c2'), 'name': 'Hannah', 'address': 'Mountain 21'}\n"
     ]
    }
   ],
   "source": [
    "#ANSWER:\n",
    "x = mycol.find_one({\"name\": \"Hannah\"})\n",
    "print(x)"
   ]
  },
  {
   "cell_type": "markdown",
   "metadata": {
    "colab_type": "text",
    "id": "ZstGYKDaOlrh"
   },
   "source": [
    "This returns (and prints) all documents in the collection:"
   ]
  },
  {
   "cell_type": "code",
   "execution_count": 0,
   "metadata": {
    "ExecuteTime": {
     "end_time": "2019-03-24T22:16:25.704034Z",
     "start_time": "2019-03-24T22:16:25.690075Z"
    },
    "colab": {},
    "colab_type": "code",
    "id": "B9mJc9wmOlrh",
    "outputId": "77cf4ba0-f174-46d7-c149-eb0037780abb"
   },
   "outputs": [
    {
     "name": "stdout",
     "output_type": "stream",
     "text": [
      "{'_id': ObjectId('5c98018b3ae8933c509b07bf'), 'name': 'John', 'address': 'Highway 37'}\n",
      "{'_id': ObjectId('5c9801953ae8933c509b07c0'), 'name': 'Peter', 'address': 'Lowstreet 27'}\n",
      "{'_id': ObjectId('5c98019e3ae8933c509b07c1'), 'name': 'Amy', 'address': 'Apple st 652'}\n",
      "{'_id': ObjectId('5c98019e3ae8933c509b07c2'), 'name': 'Hannah', 'address': 'Mountain 21'}\n",
      "{'_id': ObjectId('5c98019e3ae8933c509b07c3'), 'name': 'Michael', 'address': 'Valley 345'}\n",
      "{'_id': ObjectId('5c98019e3ae8933c509b07c4'), 'name': 'Sandy', 'address': 'Ocean blvd 2'}\n",
      "{'_id': ObjectId('5c98019e3ae8933c509b07c5'), 'name': 'Betty', 'address': 'Green Grass 1'}\n",
      "{'_id': ObjectId('5c98019e3ae8933c509b07c6'), 'name': 'Richard', 'address': 'Sky st 331'}\n",
      "{'_id': ObjectId('5c98019e3ae8933c509b07c7'), 'name': 'Susan', 'address': 'One way 98'}\n",
      "{'_id': ObjectId('5c98019e3ae8933c509b07c8'), 'name': 'Vicky', 'address': 'Yellow Garden 2'}\n",
      "{'_id': ObjectId('5c98019e3ae8933c509b07c9'), 'name': 'Ben', 'address': 'Park Lane 38'}\n",
      "{'_id': ObjectId('5c98019e3ae8933c509b07ca'), 'name': 'William', 'address': 'Central st 954'}\n",
      "{'_id': ObjectId('5c98019e3ae8933c509b07cb'), 'name': 'Chuck', 'address': 'Main Road 989'}\n",
      "{'_id': ObjectId('5c98019e3ae8933c509b07cc'), 'name': 'Viola', 'address': 'Sideway 1633'}\n",
      "{'_id': 1, 'name': 'John', 'address': 'Highway 37'}\n",
      "{'_id': 2, 'name': 'Peter', 'address': 'Lowstreet 27'}\n",
      "{'_id': 3, 'name': 'Amy', 'address': 'Apple st 652'}\n",
      "{'_id': 4, 'name': 'Hannah', 'address': 'Mountain 21'}\n",
      "{'_id': 5, 'name': 'Michael', 'address': 'Valley 345'}\n",
      "{'_id': 6, 'name': 'Sandy', 'address': 'Ocean blvd 2'}\n",
      "{'_id': 7, 'name': 'Betty', 'address': 'Green Grass 1'}\n",
      "{'_id': 8, 'name': 'Richard', 'address': 'Sky st 331'}\n",
      "{'_id': 9, 'name': 'Susan', 'address': 'One way 98'}\n",
      "{'_id': 10, 'name': 'Vicky', 'address': 'Yellow Garden 2'}\n",
      "{'_id': 11, 'name': 'Ben', 'address': 'Park Lane 38'}\n",
      "{'_id': 12, 'name': 'William', 'address': 'Central st 954'}\n",
      "{'_id': 13, 'name': 'Chuck', 'address': 'Main Road 989'}\n",
      "{'_id': 14, 'name': 'Viola', 'address': 'Sideway 1633'}\n"
     ]
    }
   ],
   "source": [
    "for x in mycol.find():\n",
    "  print(x)"
   ]
  },
  {
   "cell_type": "markdown",
   "metadata": {
    "colab_type": "text",
    "id": "AdaLXN8hOlrj"
   },
   "source": [
    "This returns only the name and address fields:"
   ]
  },
  {
   "cell_type": "code",
   "execution_count": 0,
   "metadata": {
    "ExecuteTime": {
     "end_time": "2019-03-24T22:16:30.191100Z",
     "start_time": "2019-03-24T22:16:30.178134Z"
    },
    "colab": {},
    "colab_type": "code",
    "id": "oqETgC36Olrj",
    "outputId": "a8645d63-df65-4452-cd26-9676f7ebc6d5"
   },
   "outputs": [
    {
     "name": "stdout",
     "output_type": "stream",
     "text": [
      "{'name': 'John', 'address': 'Highway 37'}\n",
      "{'name': 'Peter', 'address': 'Lowstreet 27'}\n",
      "{'name': 'Amy', 'address': 'Apple st 652'}\n",
      "{'name': 'Hannah', 'address': 'Mountain 21'}\n",
      "{'name': 'Michael', 'address': 'Valley 345'}\n",
      "{'name': 'Sandy', 'address': 'Ocean blvd 2'}\n",
      "{'name': 'Betty', 'address': 'Green Grass 1'}\n",
      "{'name': 'Richard', 'address': 'Sky st 331'}\n",
      "{'name': 'Susan', 'address': 'One way 98'}\n",
      "{'name': 'Vicky', 'address': 'Yellow Garden 2'}\n",
      "{'name': 'Ben', 'address': 'Park Lane 38'}\n",
      "{'name': 'William', 'address': 'Central st 954'}\n",
      "{'name': 'Chuck', 'address': 'Main Road 989'}\n",
      "{'name': 'Viola', 'address': 'Sideway 1633'}\n",
      "{'name': 'John', 'address': 'Highway 37'}\n",
      "{'name': 'Peter', 'address': 'Lowstreet 27'}\n",
      "{'name': 'Amy', 'address': 'Apple st 652'}\n",
      "{'name': 'Hannah', 'address': 'Mountain 21'}\n",
      "{'name': 'Michael', 'address': 'Valley 345'}\n",
      "{'name': 'Sandy', 'address': 'Ocean blvd 2'}\n",
      "{'name': 'Betty', 'address': 'Green Grass 1'}\n",
      "{'name': 'Richard', 'address': 'Sky st 331'}\n",
      "{'name': 'Susan', 'address': 'One way 98'}\n",
      "{'name': 'Vicky', 'address': 'Yellow Garden 2'}\n",
      "{'name': 'Ben', 'address': 'Park Lane 38'}\n",
      "{'name': 'William', 'address': 'Central st 954'}\n",
      "{'name': 'Chuck', 'address': 'Main Road 989'}\n",
      "{'name': 'Viola', 'address': 'Sideway 1633'}\n"
     ]
    }
   ],
   "source": [
    "for x in mycol.find({},{ \"_id\": 0, \"name\": 1, \"address\": 1 }):\n",
    "  print(x)"
   ]
  },
  {
   "cell_type": "markdown",
   "metadata": {
    "colab_type": "text",
    "id": "L-wQKCf8Olrk"
   },
   "source": [
    "Print only the `_id` and name fields:"
   ]
  },
  {
   "cell_type": "code",
   "execution_count": 0,
   "metadata": {
    "ExecuteTime": {
     "end_time": "2019-03-24T22:17:10.794707Z",
     "start_time": "2019-03-24T22:17:10.782739Z"
    },
    "colab": {},
    "colab_type": "code",
    "id": "2WgHLB07Olrk",
    "outputId": "90ad5e1c-2d22-4257-c7f4-3fe69a435b38"
   },
   "outputs": [
    {
     "name": "stdout",
     "output_type": "stream",
     "text": [
      "{'_id': ObjectId('5c98018b3ae8933c509b07bf'), 'name': 'John'}\n",
      "{'_id': ObjectId('5c9801953ae8933c509b07c0'), 'name': 'Peter'}\n",
      "{'_id': ObjectId('5c98019e3ae8933c509b07c1'), 'name': 'Amy'}\n",
      "{'_id': ObjectId('5c98019e3ae8933c509b07c2'), 'name': 'Hannah'}\n",
      "{'_id': ObjectId('5c98019e3ae8933c509b07c3'), 'name': 'Michael'}\n",
      "{'_id': ObjectId('5c98019e3ae8933c509b07c4'), 'name': 'Sandy'}\n",
      "{'_id': ObjectId('5c98019e3ae8933c509b07c5'), 'name': 'Betty'}\n",
      "{'_id': ObjectId('5c98019e3ae8933c509b07c6'), 'name': 'Richard'}\n",
      "{'_id': ObjectId('5c98019e3ae8933c509b07c7'), 'name': 'Susan'}\n",
      "{'_id': ObjectId('5c98019e3ae8933c509b07c8'), 'name': 'Vicky'}\n",
      "{'_id': ObjectId('5c98019e3ae8933c509b07c9'), 'name': 'Ben'}\n",
      "{'_id': ObjectId('5c98019e3ae8933c509b07ca'), 'name': 'William'}\n",
      "{'_id': ObjectId('5c98019e3ae8933c509b07cb'), 'name': 'Chuck'}\n",
      "{'_id': ObjectId('5c98019e3ae8933c509b07cc'), 'name': 'Viola'}\n",
      "{'_id': 1, 'name': 'John'}\n",
      "{'_id': 2, 'name': 'Peter'}\n",
      "{'_id': 3, 'name': 'Amy'}\n",
      "{'_id': 4, 'name': 'Hannah'}\n",
      "{'_id': 5, 'name': 'Michael'}\n",
      "{'_id': 6, 'name': 'Sandy'}\n",
      "{'_id': 7, 'name': 'Betty'}\n",
      "{'_id': 8, 'name': 'Richard'}\n",
      "{'_id': 9, 'name': 'Susan'}\n",
      "{'_id': 10, 'name': 'Vicky'}\n",
      "{'_id': 11, 'name': 'Ben'}\n",
      "{'_id': 12, 'name': 'William'}\n",
      "{'_id': 13, 'name': 'Chuck'}\n",
      "{'_id': 14, 'name': 'Viola'}\n"
     ]
    }
   ],
   "source": [
    "#ANSWER:\n",
    "for x in mycol.find({},{ \"_id\": 1, \"name\": 1 }):\n",
    "  print(x)"
   ]
  },
  {
   "cell_type": "markdown",
   "metadata": {
    "colab_type": "text",
    "id": "jfB1DEzdOlrl"
   },
   "source": [
    "So, we must explicitly use `\"_id\": 0` to exclude it, but for other fields we simply omit them from the dict argument."
   ]
  },
  {
   "cell_type": "markdown",
   "metadata": {
    "colab_type": "text",
    "id": "IQAADk7NOlrm"
   },
   "source": [
    "To include field conditionals in a query, we use `$` operators. This finds addresses starting with \"S\" or greater:"
   ]
  },
  {
   "cell_type": "code",
   "execution_count": 0,
   "metadata": {
    "ExecuteTime": {
     "end_time": "2019-03-24T22:17:29.139910Z",
     "start_time": "2019-03-24T22:17:29.122986Z"
    },
    "colab": {},
    "colab_type": "code",
    "id": "AftaYPeUOlrm",
    "outputId": "c14e1e09-03ca-4eb1-976d-84440b18798c"
   },
   "outputs": [
    {
     "name": "stdout",
     "output_type": "stream",
     "text": [
      "{'_id': ObjectId('5c98019e3ae8933c509b07c3'), 'name': 'Michael', 'address': 'Valley 345'}\n",
      "{'_id': ObjectId('5c98019e3ae8933c509b07c6'), 'name': 'Richard', 'address': 'Sky st 331'}\n",
      "{'_id': ObjectId('5c98019e3ae8933c509b07c8'), 'name': 'Vicky', 'address': 'Yellow Garden 2'}\n",
      "{'_id': ObjectId('5c98019e3ae8933c509b07cc'), 'name': 'Viola', 'address': 'Sideway 1633'}\n",
      "{'_id': 5, 'name': 'Michael', 'address': 'Valley 345'}\n",
      "{'_id': 8, 'name': 'Richard', 'address': 'Sky st 331'}\n",
      "{'_id': 10, 'name': 'Vicky', 'address': 'Yellow Garden 2'}\n",
      "{'_id': 14, 'name': 'Viola', 'address': 'Sideway 1633'}\n"
     ]
    }
   ],
   "source": [
    "myquery = { \"address\": { \"$gt\": \"S\" } }\n",
    "mydoc = mycol.find(myquery)\n",
    "for x in mydoc:\n",
    "  print(x)"
   ]
  },
  {
   "cell_type": "code",
   "execution_count": 0,
   "metadata": {
    "colab": {},
    "colab_type": "code",
    "id": "XlQ3hiPfOlrn"
   },
   "outputs": [],
   "source": []
  },
  {
   "cell_type": "markdown",
   "metadata": {
    "colab_type": "text",
    "id": "OpRNLXd4Olro"
   },
   "source": [
    "Now find all docs with an address that begins with \"S\":  \n"
   ]
  },
  {
   "cell_type": "code",
   "execution_count": 0,
   "metadata": {
    "ExecuteTime": {
     "end_time": "2019-03-24T22:17:46.877693Z",
     "start_time": "2019-03-24T22:17:46.854782Z"
    },
    "colab": {},
    "colab_type": "code",
    "id": "tN4Kn-vyOlrp",
    "outputId": "8119e35b-0f84-4bc0-89c0-da65cd296b60"
   },
   "outputs": [
    {
     "name": "stdout",
     "output_type": "stream",
     "text": [
      "{'_id': ObjectId('5c98019e3ae8933c509b07c6'), 'name': 'Richard', 'address': 'Sky st 331'}\n",
      "{'_id': ObjectId('5c98019e3ae8933c509b07cc'), 'name': 'Viola', 'address': 'Sideway 1633'}\n",
      "{'_id': 8, 'name': 'Richard', 'address': 'Sky st 331'}\n",
      "{'_id': 14, 'name': 'Viola', 'address': 'Sideway 1633'}\n"
     ]
    }
   ],
   "source": [
    "\n",
    "myquery = { \"address\": { \"$regex\": \"^S\" } }\n",
    "mydoc = mycol.find(myquery)\n",
    "for x in mydoc:\n",
    "  print(x)"
   ]
  },
  {
   "cell_type": "markdown",
   "metadata": {
    "colab_type": "text",
    "id": "1UoZuCTDOlrq"
   },
   "source": [
    "Sorting can be applied by invoking the Sort() method after the Find() method. Sort the collection by the name field:"
   ]
  },
  {
   "cell_type": "code",
   "execution_count": 0,
   "metadata": {
    "ExecuteTime": {
     "end_time": "2019-03-24T22:17:50.549869Z",
     "start_time": "2019-03-24T22:17:50.530920Z"
    },
    "colab": {},
    "colab_type": "code",
    "id": "emrzpzZkOlrr",
    "outputId": "c3611d1a-fda4-4b36-a58f-908ee66ed41a"
   },
   "outputs": [
    {
     "name": "stdout",
     "output_type": "stream",
     "text": [
      "{'_id': ObjectId('5c98019e3ae8933c509b07c1'), 'name': 'Amy', 'address': 'Apple st 652'}\n",
      "{'_id': 3, 'name': 'Amy', 'address': 'Apple st 652'}\n",
      "{'_id': ObjectId('5c98019e3ae8933c509b07c9'), 'name': 'Ben', 'address': 'Park Lane 38'}\n",
      "{'_id': 11, 'name': 'Ben', 'address': 'Park Lane 38'}\n",
      "{'_id': ObjectId('5c98019e3ae8933c509b07c5'), 'name': 'Betty', 'address': 'Green Grass 1'}\n",
      "{'_id': 7, 'name': 'Betty', 'address': 'Green Grass 1'}\n",
      "{'_id': ObjectId('5c98019e3ae8933c509b07cb'), 'name': 'Chuck', 'address': 'Main Road 989'}\n",
      "{'_id': 13, 'name': 'Chuck', 'address': 'Main Road 989'}\n",
      "{'_id': ObjectId('5c98019e3ae8933c509b07c2'), 'name': 'Hannah', 'address': 'Mountain 21'}\n",
      "{'_id': 4, 'name': 'Hannah', 'address': 'Mountain 21'}\n",
      "{'_id': ObjectId('5c98018b3ae8933c509b07bf'), 'name': 'John', 'address': 'Highway 37'}\n",
      "{'_id': 1, 'name': 'John', 'address': 'Highway 37'}\n",
      "{'_id': ObjectId('5c98019e3ae8933c509b07c3'), 'name': 'Michael', 'address': 'Valley 345'}\n",
      "{'_id': 5, 'name': 'Michael', 'address': 'Valley 345'}\n",
      "{'_id': ObjectId('5c9801953ae8933c509b07c0'), 'name': 'Peter', 'address': 'Lowstreet 27'}\n",
      "{'_id': 2, 'name': 'Peter', 'address': 'Lowstreet 27'}\n",
      "{'_id': ObjectId('5c98019e3ae8933c509b07c6'), 'name': 'Richard', 'address': 'Sky st 331'}\n",
      "{'_id': 8, 'name': 'Richard', 'address': 'Sky st 331'}\n",
      "{'_id': ObjectId('5c98019e3ae8933c509b07c4'), 'name': 'Sandy', 'address': 'Ocean blvd 2'}\n",
      "{'_id': 6, 'name': 'Sandy', 'address': 'Ocean blvd 2'}\n",
      "{'_id': ObjectId('5c98019e3ae8933c509b07c7'), 'name': 'Susan', 'address': 'One way 98'}\n",
      "{'_id': 9, 'name': 'Susan', 'address': 'One way 98'}\n",
      "{'_id': ObjectId('5c98019e3ae8933c509b07c8'), 'name': 'Vicky', 'address': 'Yellow Garden 2'}\n",
      "{'_id': 10, 'name': 'Vicky', 'address': 'Yellow Garden 2'}\n",
      "{'_id': ObjectId('5c98019e3ae8933c509b07cc'), 'name': 'Viola', 'address': 'Sideway 1633'}\n",
      "{'_id': 14, 'name': 'Viola', 'address': 'Sideway 1633'}\n",
      "{'_id': ObjectId('5c98019e3ae8933c509b07ca'), 'name': 'William', 'address': 'Central st 954'}\n",
      "{'_id': 12, 'name': 'William', 'address': 'Central st 954'}\n"
     ]
    }
   ],
   "source": [
    "\n",
    "mydoc = mycol.find().sort(\"name\")\n",
    "for x in mydoc:\n",
    "  print(x)"
   ]
  },
  {
   "cell_type": "markdown",
   "metadata": {
    "colab_type": "text",
    "id": "V_77CWpgOlrs"
   },
   "source": [
    "Now sort in reverse order (HINT: The Sort() method takes an optional second parameter.)"
   ]
  },
  {
   "cell_type": "code",
   "execution_count": 0,
   "metadata": {
    "ExecuteTime": {
     "end_time": "2019-03-24T22:20:19.022644Z",
     "start_time": "2019-03-24T22:20:19.016672Z"
    },
    "colab": {},
    "colab_type": "code",
    "id": "f_sslvp1Uh3V",
    "outputId": "2ae6814e-7a37-4db6-e79f-9b8bcf5e03eb"
   },
   "outputs": [
    {
     "name": "stdout",
     "output_type": "stream",
     "text": [
      "Help on method sort in module pymongo.cursor:\n",
      "\n",
      "sort(key_or_list, direction=None) method of pymongo.cursor.Cursor instance\n",
      "    Sorts this cursor's results.\n",
      "    \n",
      "    Pass a field name and a direction, either\n",
      "    :data:`~pymongo.ASCENDING` or :data:`~pymongo.DESCENDING`::\n",
      "    \n",
      "        for doc in collection.find().sort('field', pymongo.ASCENDING):\n",
      "            print(doc)\n",
      "    \n",
      "    To sort by multiple fields, pass a list of (key, direction) pairs::\n",
      "    \n",
      "        for doc in collection.find().sort([\n",
      "                ('field1', pymongo.ASCENDING),\n",
      "                ('field2', pymongo.DESCENDING)]):\n",
      "            print(doc)\n",
      "    \n",
      "    Beginning with MongoDB version 2.6, text search results can be\n",
      "    sorted by relevance::\n",
      "    \n",
      "        cursor = db.test.find(\n",
      "            {'$text': {'$search': 'some words'}},\n",
      "            {'score': {'$meta': 'textScore'}})\n",
      "    \n",
      "        # Sort by 'score' field.\n",
      "        cursor.sort([('score', {'$meta': 'textScore'})])\n",
      "    \n",
      "        for doc in cursor:\n",
      "            print(doc)\n",
      "    \n",
      "    Raises :class:`~pymongo.errors.InvalidOperation` if this cursor has\n",
      "    already been used. Only the last :meth:`sort` applied to this\n",
      "    cursor has any effect.\n",
      "    \n",
      "    :Parameters:\n",
      "      - `key_or_list`: a single key or a list of (key, direction)\n",
      "        pairs specifying the keys to sort on\n",
      "      - `direction` (optional): only used if `key_or_list` is a single\n",
      "        key, if not given :data:`~pymongo.ASCENDING` is assumed\n",
      "\n"
     ]
    }
   ],
   "source": [
    "help(mycol.find().sort)"
   ]
  },
  {
   "cell_type": "code",
   "execution_count": 0,
   "metadata": {
    "ExecuteTime": {
     "end_time": "2019-03-24T22:20:23.070133Z",
     "start_time": "2019-03-24T22:20:23.056171Z"
    },
    "colab": {},
    "colab_type": "code",
    "id": "d33kE6WBUh3Z",
    "outputId": "2ec11428-428f-4c3c-e75c-95fde02875fa"
   },
   "outputs": [
    {
     "name": "stdout",
     "output_type": "stream",
     "text": [
      "{'_id': ObjectId('5c98019e3ae8933c509b07ca'), 'name': 'William', 'address': 'Central st 954'}\n",
      "{'_id': 12, 'name': 'William', 'address': 'Central st 954'}\n",
      "{'_id': ObjectId('5c98019e3ae8933c509b07cc'), 'name': 'Viola', 'address': 'Sideway 1633'}\n",
      "{'_id': 14, 'name': 'Viola', 'address': 'Sideway 1633'}\n",
      "{'_id': ObjectId('5c98019e3ae8933c509b07c8'), 'name': 'Vicky', 'address': 'Yellow Garden 2'}\n",
      "{'_id': 10, 'name': 'Vicky', 'address': 'Yellow Garden 2'}\n",
      "{'_id': ObjectId('5c98019e3ae8933c509b07c7'), 'name': 'Susan', 'address': 'One way 98'}\n",
      "{'_id': 9, 'name': 'Susan', 'address': 'One way 98'}\n",
      "{'_id': ObjectId('5c98019e3ae8933c509b07c4'), 'name': 'Sandy', 'address': 'Ocean blvd 2'}\n",
      "{'_id': 6, 'name': 'Sandy', 'address': 'Ocean blvd 2'}\n",
      "{'_id': ObjectId('5c98019e3ae8933c509b07c6'), 'name': 'Richard', 'address': 'Sky st 331'}\n",
      "{'_id': 8, 'name': 'Richard', 'address': 'Sky st 331'}\n",
      "{'_id': ObjectId('5c9801953ae8933c509b07c0'), 'name': 'Peter', 'address': 'Lowstreet 27'}\n",
      "{'_id': 2, 'name': 'Peter', 'address': 'Lowstreet 27'}\n",
      "{'_id': ObjectId('5c98019e3ae8933c509b07c3'), 'name': 'Michael', 'address': 'Valley 345'}\n",
      "{'_id': 5, 'name': 'Michael', 'address': 'Valley 345'}\n",
      "{'_id': ObjectId('5c98018b3ae8933c509b07bf'), 'name': 'John', 'address': 'Highway 37'}\n",
      "{'_id': 1, 'name': 'John', 'address': 'Highway 37'}\n",
      "{'_id': ObjectId('5c98019e3ae8933c509b07c2'), 'name': 'Hannah', 'address': 'Mountain 21'}\n",
      "{'_id': 4, 'name': 'Hannah', 'address': 'Mountain 21'}\n",
      "{'_id': ObjectId('5c98019e3ae8933c509b07cb'), 'name': 'Chuck', 'address': 'Main Road 989'}\n",
      "{'_id': 13, 'name': 'Chuck', 'address': 'Main Road 989'}\n",
      "{'_id': ObjectId('5c98019e3ae8933c509b07c5'), 'name': 'Betty', 'address': 'Green Grass 1'}\n",
      "{'_id': 7, 'name': 'Betty', 'address': 'Green Grass 1'}\n",
      "{'_id': ObjectId('5c98019e3ae8933c509b07c9'), 'name': 'Ben', 'address': 'Park Lane 38'}\n",
      "{'_id': 11, 'name': 'Ben', 'address': 'Park Lane 38'}\n",
      "{'_id': ObjectId('5c98019e3ae8933c509b07c1'), 'name': 'Amy', 'address': 'Apple st 652'}\n",
      "{'_id': 3, 'name': 'Amy', 'address': 'Apple st 652'}\n"
     ]
    }
   ],
   "source": [
    "\n",
    "mydoc = mycol.find().sort(\"name\", direction=pymongo.DESCENDING)\n",
    "for x in mydoc:\n",
    "  print(x)"
   ]
  },
  {
   "cell_type": "markdown",
   "metadata": {
    "colab_type": "text",
    "id": "_FDaYzDHOlrs"
   },
   "source": [
    "A single record can be deleted by specifying some criterion:"
   ]
  },
  {
   "cell_type": "code",
   "execution_count": 0,
   "metadata": {
    "ExecuteTime": {
     "end_time": "2019-03-24T22:20:28.032868Z",
     "start_time": "2019-03-24T22:20:28.017909Z"
    },
    "colab": {},
    "colab_type": "code",
    "id": "ZMUyCeoWOlrt",
    "outputId": "2b567ae4-7297-43cc-85a7-82b013a4c2d1"
   },
   "outputs": [
    {
     "data": {
      "text/plain": [
       "<pymongo.results.DeleteResult at 0x28b61068108>"
      ]
     },
     "execution_count": 36,
     "metadata": {
      "tags": []
     },
     "output_type": "execute_result"
    }
   ],
   "source": [
    "mycol.delete_one({ \"address\": \"Mountain 21\" })"
   ]
  },
  {
   "cell_type": "markdown",
   "metadata": {
    "colab_type": "text",
    "id": "NMFsvYYQOlru"
   },
   "source": [
    "Now delete all docs with the 2-digit `Id` values:"
   ]
  },
  {
   "cell_type": "code",
   "execution_count": 0,
   "metadata": {
    "ExecuteTime": {
     "end_time": "2019-03-24T22:20:38.310170Z",
     "start_time": "2019-03-24T22:20:38.276256Z"
    },
    "colab": {},
    "colab_type": "code",
    "id": "prCnKlvfOlru",
    "outputId": "9d6ea219-cdc8-4847-ba3d-69f2cbf44367"
   },
   "outputs": [
    {
     "name": "stdout",
     "output_type": "stream",
     "text": [
      "{'_id': ObjectId('5c98018b3ae8933c509b07bf'), 'name': 'John', 'address': 'Highway 37'}\n",
      "{'_id': ObjectId('5c9801953ae8933c509b07c0'), 'name': 'Peter', 'address': 'Lowstreet 27'}\n",
      "{'_id': ObjectId('5c98019e3ae8933c509b07c1'), 'name': 'Amy', 'address': 'Apple st 652'}\n",
      "{'_id': ObjectId('5c98019e3ae8933c509b07c3'), 'name': 'Michael', 'address': 'Valley 345'}\n",
      "{'_id': ObjectId('5c98019e3ae8933c509b07c4'), 'name': 'Sandy', 'address': 'Ocean blvd 2'}\n",
      "{'_id': ObjectId('5c98019e3ae8933c509b07c5'), 'name': 'Betty', 'address': 'Green Grass 1'}\n",
      "{'_id': ObjectId('5c98019e3ae8933c509b07c6'), 'name': 'Richard', 'address': 'Sky st 331'}\n",
      "{'_id': ObjectId('5c98019e3ae8933c509b07c7'), 'name': 'Susan', 'address': 'One way 98'}\n",
      "{'_id': ObjectId('5c98019e3ae8933c509b07c8'), 'name': 'Vicky', 'address': 'Yellow Garden 2'}\n",
      "{'_id': ObjectId('5c98019e3ae8933c509b07c9'), 'name': 'Ben', 'address': 'Park Lane 38'}\n",
      "{'_id': ObjectId('5c98019e3ae8933c509b07ca'), 'name': 'William', 'address': 'Central st 954'}\n",
      "{'_id': ObjectId('5c98019e3ae8933c509b07cb'), 'name': 'Chuck', 'address': 'Main Road 989'}\n",
      "{'_id': ObjectId('5c98019e3ae8933c509b07cc'), 'name': 'Viola', 'address': 'Sideway 1633'}\n"
     ]
    }
   ],
   "source": [
    "\n",
    "mycol.delete_many({ \"_id\": {\"$lt\": 15} })\n",
    "for x in mycol.find():\n",
    "  print(x)"
   ]
  },
  {
   "cell_type": "markdown",
   "metadata": {
    "colab_type": "text",
    "id": "t3E6UV1cOlrw"
   },
   "source": [
    "This would delete all docs:\n",
    "`x = mycol.delete_many({})`\n",
    "\n",
    "This would remove the collection:\n",
    "`mycol.drop()`"
   ]
  },
  {
   "cell_type": "markdown",
   "metadata": {
    "colab_type": "text",
    "id": "qz0uatIROlrw"
   },
   "source": [
    "Change the first instance of \"address\" == \"Valley 345\" to \"Canyon 123\" using update_one().  \n"
   ]
  },
  {
   "cell_type": "code",
   "execution_count": 0,
   "metadata": {
    "ExecuteTime": {
     "end_time": "2019-03-24T22:20:47.918443Z",
     "start_time": "2019-03-24T22:20:47.898523Z"
    },
    "colab": {},
    "colab_type": "code",
    "id": "f2MBnpIjOlrw",
    "outputId": "7d4975d4-ea70-4284-bee4-8dd48eb6a71d"
   },
   "outputs": [
    {
     "name": "stdout",
     "output_type": "stream",
     "text": [
      "{'_id': ObjectId('5c98018b3ae8933c509b07bf'), 'name': 'John', 'address': 'Highway 37'}\n",
      "{'_id': ObjectId('5c9801953ae8933c509b07c0'), 'name': 'Peter', 'address': 'Lowstreet 27'}\n",
      "{'_id': ObjectId('5c98019e3ae8933c509b07c1'), 'name': 'Amy', 'address': 'Apple st 652'}\n",
      "{'_id': ObjectId('5c98019e3ae8933c509b07c3'), 'name': 'Michael', 'address': 'Canyon 123'}\n",
      "{'_id': ObjectId('5c98019e3ae8933c509b07c4'), 'name': 'Sandy', 'address': 'Ocean blvd 2'}\n",
      "{'_id': ObjectId('5c98019e3ae8933c509b07c5'), 'name': 'Betty', 'address': 'Green Grass 1'}\n",
      "{'_id': ObjectId('5c98019e3ae8933c509b07c6'), 'name': 'Richard', 'address': 'Sky st 331'}\n",
      "{'_id': ObjectId('5c98019e3ae8933c509b07c7'), 'name': 'Susan', 'address': 'One way 98'}\n",
      "{'_id': ObjectId('5c98019e3ae8933c509b07c8'), 'name': 'Vicky', 'address': 'Yellow Garden 2'}\n",
      "{'_id': ObjectId('5c98019e3ae8933c509b07c9'), 'name': 'Ben', 'address': 'Park Lane 38'}\n",
      "{'_id': ObjectId('5c98019e3ae8933c509b07ca'), 'name': 'William', 'address': 'Central st 954'}\n",
      "{'_id': ObjectId('5c98019e3ae8933c509b07cb'), 'name': 'Chuck', 'address': 'Main Road 989'}\n",
      "{'_id': ObjectId('5c98019e3ae8933c509b07cc'), 'name': 'Viola', 'address': 'Sideway 1633'}\n"
     ]
    }
   ],
   "source": [
    "\n",
    "myquery = { \"address\": \"Valley 345\" }\n",
    "newvalues = { \"$set\": { \"address\": \"Canyon 123\" } }\n",
    "mycol.update_one(myquery, newvalues)\n",
    "for x in mycol.find():\n",
    "  print(x)"
   ]
  },
  {
   "cell_type": "markdown",
   "metadata": {
    "colab_type": "text",
    "id": "Lzn6Z_B4Olrx"
   },
   "source": [
    "The limit() method can be applied after the find() method to limit the number of docs returned. Show the first 5 docs:"
   ]
  },
  {
   "cell_type": "code",
   "execution_count": 0,
   "metadata": {
    "ExecuteTime": {
     "end_time": "2019-03-24T22:21:02.727660Z",
     "start_time": "2019-03-24T22:21:02.718685Z"
    },
    "colab": {},
    "colab_type": "code",
    "id": "3zP9VIMtOlrx",
    "outputId": "3d30de70-9b8c-4158-9109-69ae7a7053ab"
   },
   "outputs": [
    {
     "name": "stdout",
     "output_type": "stream",
     "text": [
      "{'_id': ObjectId('5c98018b3ae8933c509b07bf'), 'name': 'John', 'address': 'Highway 37'}\n",
      "{'_id': ObjectId('5c9801953ae8933c509b07c0'), 'name': 'Peter', 'address': 'Lowstreet 27'}\n",
      "{'_id': ObjectId('5c98019e3ae8933c509b07c1'), 'name': 'Amy', 'address': 'Apple st 652'}\n",
      "{'_id': ObjectId('5c98019e3ae8933c509b07c3'), 'name': 'Michael', 'address': 'Canyon 123'}\n",
      "{'_id': ObjectId('5c98019e3ae8933c509b07c4'), 'name': 'Sandy', 'address': 'Ocean blvd 2'}\n"
     ]
    }
   ],
   "source": [
    "\n",
    "myresult = mycol.find().limit(5)\n",
    "for x in myresult:\n",
    "  print(x)"
   ]
  },
  {
   "cell_type": "markdown",
   "metadata": {
    "colab_type": "text",
    "id": "MdLYImnpOlrz"
   },
   "source": [
    "## PyMongo for Data Science"
   ]
  },
  {
   "cell_type": "markdown",
   "metadata": {
    "colab_type": "text",
    "id": "rRV2bc2hOlrz"
   },
   "source": [
    "MongoDB has many more features of interest to developers, but the main focus of a data scientist will be wrangling and munging the data. It may or may not be desirable to do all the data munging in Pandas; for a large, distributed database, it may be imperative to perform aggregation in MongoDB. "
   ]
  },
  {
   "cell_type": "code",
   "execution_count": 0,
   "metadata": {
    "ExecuteTime": {
     "end_time": "2019-03-24T22:21:26.179246Z",
     "start_time": "2019-03-24T22:21:10.206029Z"
    },
    "colab": {},
    "colab_type": "code",
    "id": "il5hpMF2Olr0"
   },
   "outputs": [],
   "source": [
    "# Ref:  https://rsandstroem.github.io/MongoDBDemo.html\n",
    "\n",
    "import os\n",
    "import pandas as pd\n",
    "import numpy as np"
   ]
  },
  {
   "cell_type": "markdown",
   "metadata": {
    "colab_type": "text",
    "id": "sPhZp-6bOlr1"
   },
   "source": [
    "This code creates a database named \"test\" and populates it from a JSON file using the mongoimport program (executed in the operating systems itself, rather than in Python):"
   ]
  },
  {
   "cell_type": "code",
   "execution_count": 0,
   "metadata": {
    "ExecuteTime": {
     "end_time": "2019-03-24T22:21:26.215055Z",
     "start_time": "2019-03-24T22:21:26.210067Z"
    },
    "colab": {},
    "colab_type": "code",
    "id": "_pBvhyCDOlr1"
   },
   "outputs": [],
   "source": [
    "db = client.test\n",
    "# Drop the collection in case it was previously created:\n",
    "# collection = db.people\n",
    "# collection.drop()"
   ]
  },
  {
   "cell_type": "code",
   "execution_count": 0,
   "metadata": {
    "ExecuteTime": {
     "end_time": "2019-03-24T22:21:26.294841Z",
     "start_time": "2019-03-24T22:21:26.256943Z"
    },
    "colab": {},
    "colab_type": "code",
    "id": "ryMolohiOlr3",
    "outputId": "0698ba3f-fe81-41b0-9f23-571dc9dd9fdf"
   },
   "outputs": [
    {
     "ename": "FileNotFoundError",
     "evalue": "[WinError 2] The system cannot find the file specified: 'dat'",
     "output_type": "error",
     "traceback": [
      "\u001b[1;31m---------------------------------------------------------------------------\u001b[0m",
      "\u001b[1;31mFileNotFoundError\u001b[0m                         Traceback (most recent call last)",
      "\u001b[1;32m<ipython-input-42-02cf9bd177c6>\u001b[0m in \u001b[0;36m<module>\u001b[1;34m()\u001b[0m\n\u001b[1;32m----> 1\u001b[1;33m \u001b[0mos\u001b[0m\u001b[1;33m.\u001b[0m\u001b[0mchdir\u001b[0m\u001b[1;33m(\u001b[0m\u001b[1;34m\"dat\"\u001b[0m\u001b[1;33m)\u001b[0m\u001b[1;33m\u001b[0m\u001b[0m\n\u001b[0m",
      "\u001b[1;31mFileNotFoundError\u001b[0m: [WinError 2] The system cannot find the file specified: 'dat'"
     ]
    }
   ],
   "source": [
    "os.chdir(\"dat\")"
   ]
  },
  {
   "cell_type": "code",
   "execution_count": 0,
   "metadata": {
    "ExecuteTime": {
     "end_time": "2019-03-24T22:21:53.648998Z",
     "start_time": "2019-03-24T22:21:53.642050Z"
    },
    "colab": {},
    "colab_type": "code",
    "id": "5-2PdpjkOlr5",
    "outputId": "bf1a2ca8-221f-4cc0-936b-1c9f923e5f62"
   },
   "outputs": [
    {
     "data": {
      "text/plain": [
       "'C:\\\\Users\\\\Faisal\\\\DSIA\\\\dsia'"
      ]
     },
     "execution_count": 43,
     "metadata": {
      "tags": []
     },
     "output_type": "execute_result"
    }
   ],
   "source": [
    "pwd()"
   ]
  },
  {
   "cell_type": "code",
   "execution_count": 0,
   "metadata": {
    "ExecuteTime": {
     "end_time": "2019-03-24T22:50:40.870318Z",
     "start_time": "2019-03-24T22:50:38.430678Z"
    },
    "colab": {},
    "colab_type": "code",
    "id": "-iFaHDrCUh4C",
    "outputId": "007a4bca-46da-461f-a23e-8a86522b520a"
   },
   "outputs": [
    {
     "data": {
      "text/plain": [
       "0"
      ]
     },
     "execution_count": 52,
     "metadata": {
      "tags": []
     },
     "output_type": "execute_result"
    }
   ],
   "source": [
    "# if this does not return 0, execute mongoimport from a commmand window instead:\n",
    "os.system('mongoimport --db test --collection people --drop --file C:/Users/Faisal/downloads/dummyData.json')"
   ]
  },
  {
   "cell_type": "code",
   "execution_count": 0,
   "metadata": {
    "ExecuteTime": {
     "end_time": "2019-03-24T22:51:14.064434Z",
     "start_time": "2019-03-24T22:51:12.683717Z"
    },
    "colab": {},
    "colab_type": "code",
    "id": "JEDjmxk2Olr7",
    "outputId": "c66ca279-6562-481a-ce68-f77e6e1c5cc3"
   },
   "outputs": [
    {
     "data": {
      "text/plain": [
       "0"
      ]
     },
     "execution_count": 54,
     "metadata": {
      "tags": []
     },
     "output_type": "execute_result"
    }
   ],
   "source": [
    "# if this does not return 0, execute mongoimport from a commmand window instead:\n",
    "os.system('mongoimport -d test -c people --file C:/Users/Faisal/DSIA/dsia/data/dummyData.json')"
   ]
  },
  {
   "cell_type": "code",
   "execution_count": 0,
   "metadata": {
    "colab": {},
    "colab_type": "code",
    "id": "6Ex48iCPOlr8"
   },
   "outputs": [],
   "source": [
    "os.chdir(\"..\")"
   ]
  },
  {
   "cell_type": "code",
   "execution_count": 0,
   "metadata": {
    "colab": {},
    "colab_type": "code",
    "id": "o7TfXhQMOlr-"
   },
   "outputs": [],
   "source": [
    "pwd()"
   ]
  },
  {
   "cell_type": "code",
   "execution_count": 0,
   "metadata": {
    "ExecuteTime": {
     "end_time": "2019-03-24T22:51:27.384670Z",
     "start_time": "2019-03-24T22:51:27.368689Z"
    },
    "colab": {},
    "colab_type": "code",
    "id": "_f-RjMoFOlr_",
    "outputId": "8b420f5c-a78b-4abb-f3fa-df25ceb4719a"
   },
   "outputs": [
    {
     "name": "stdout",
     "output_type": "stream",
     "text": [
      "{'_id': ObjectId('5c9809c0a3032a533cced7ce'), 'Name': 'Sawyer, Neve M.', 'Age': 18, 'Country': 'Serbia', 'Location': '-34.37446, 174.0838'}\n",
      "{'_id': ObjectId('5c9809e2a3032a533cced839'), 'Name': 'Sawyer, Neve M.', 'Age': 18, 'Country': 'Serbia', 'Location': '-34.37446, 174.0838'}\n",
      "{'_id': ObjectId('5c9809c0a3032a533cced78d'), 'Name': 'Townsend, Cadman I.', 'Age': 19, 'Country': 'Somalia', 'Location': '-87.69188, -144.16138'}\n"
     ]
    }
   ],
   "source": [
    "db = client.test\n",
    "collection = db.people\n",
    "cursor = collection.find().sort('Age', pymongo.ASCENDING).limit(3)\n",
    "for doc in cursor:\n",
    "    print (doc)"
   ]
  },
  {
   "cell_type": "markdown",
   "metadata": {
    "colab_type": "text",
    "id": "oDqJyxYWOlsA"
   },
   "source": [
    "Here is a small demonstration of the MongoDB aggregation framework. We want to create a table of the number of persons in each country and their average age. To do it we group by country. We extract the results from MongoDB aggregation into a pandas dataframe, and use the country as index."
   ]
  },
  {
   "cell_type": "code",
   "execution_count": 0,
   "metadata": {
    "ExecuteTime": {
     "end_time": "2019-03-24T22:51:32.124820Z",
     "start_time": "2019-03-24T22:51:32.042070Z"
    },
    "colab": {},
    "colab_type": "code",
    "id": "qe0uLGpjOlsB",
    "outputId": "d4f084a3-4e8a-4a70-f34b-c2ec764821b6"
   },
   "outputs": [
    {
     "data": {
      "text/html": [
       "<div>\n",
       "<style scoped>\n",
       "    .dataframe tbody tr th:only-of-type {\n",
       "        vertical-align: middle;\n",
       "    }\n",
       "\n",
       "    .dataframe tbody tr th {\n",
       "        vertical-align: top;\n",
       "    }\n",
       "\n",
       "    .dataframe thead th {\n",
       "        text-align: right;\n",
       "    }\n",
       "</style>\n",
       "<table border=\"1\" class=\"dataframe\">\n",
       "  <thead>\n",
       "    <tr style=\"text-align: right;\">\n",
       "      <th></th>\n",
       "      <th>AvgAge</th>\n",
       "      <th>Count</th>\n",
       "    </tr>\n",
       "    <tr>\n",
       "      <th>_id</th>\n",
       "      <th></th>\n",
       "      <th></th>\n",
       "    </tr>\n",
       "  </thead>\n",
       "  <tbody>\n",
       "    <tr>\n",
       "      <th>China</th>\n",
       "      <td>46.250000</td>\n",
       "      <td>8</td>\n",
       "    </tr>\n",
       "    <tr>\n",
       "      <th>Antarctica</th>\n",
       "      <td>46.333333</td>\n",
       "      <td>6</td>\n",
       "    </tr>\n",
       "    <tr>\n",
       "      <th>Guernsey</th>\n",
       "      <td>48.333333</td>\n",
       "      <td>6</td>\n",
       "    </tr>\n",
       "    <tr>\n",
       "      <th>Puerto Rico</th>\n",
       "      <td>26.500000</td>\n",
       "      <td>4</td>\n",
       "    </tr>\n",
       "    <tr>\n",
       "      <th>Heard Island and Mcdonald Islands</th>\n",
       "      <td>29.000000</td>\n",
       "      <td>4</td>\n",
       "    </tr>\n",
       "  </tbody>\n",
       "</table>\n",
       "</div>"
      ],
      "text/plain": [
       "                                      AvgAge  Count\n",
       "_id                                                \n",
       "China                              46.250000      8\n",
       "Antarctica                         46.333333      6\n",
       "Guernsey                           48.333333      6\n",
       "Puerto Rico                        26.500000      4\n",
       "Heard Island and Mcdonald Islands  29.000000      4"
      ]
     },
     "execution_count": 56,
     "metadata": {
      "tags": []
     },
     "output_type": "execute_result"
    }
   ],
   "source": [
    "pipeline = [\n",
    "        {\"$group\": {\"_id\":\"$Country\",\n",
    "             \"AvgAge\":{\"$avg\":\"$Age\"},\n",
    "             \"Count\":{\"$sum\":1},\n",
    "        }},\n",
    "        {\"$sort\":{\"Count\":-1,\"AvgAge\":1}}\n",
    "]\n",
    "aggResult = collection.aggregate(pipeline) # returns a cursor\n",
    "\n",
    "df1 = pd.DataFrame(list(aggResult)) # use list to turn the cursor to an array of documents\n",
    "df1 = df1.set_index(\"_id\")\n",
    "df1.head()"
   ]
  },
  {
   "cell_type": "markdown",
   "metadata": {
    "colab_type": "text",
    "id": "JNCe_oGYOlsC"
   },
   "source": [
    "For simple cases one can either use a cursor through find(\"search term\") or use the \"$match\" operator in the aggregation framework, like this:"
   ]
  },
  {
   "cell_type": "code",
   "execution_count": 0,
   "metadata": {
    "ExecuteTime": {
     "end_time": "2019-03-24T22:51:57.132158Z",
     "start_time": "2019-03-24T22:51:57.104233Z"
    },
    "colab": {},
    "colab_type": "code",
    "id": "WTTAlaHnOlsD",
    "outputId": "7175d119-ba37-424d-b717-5bde90b105e6"
   },
   "outputs": [
    {
     "data": {
      "text/html": [
       "<div>\n",
       "<style scoped>\n",
       "    .dataframe tbody tr th:only-of-type {\n",
       "        vertical-align: middle;\n",
       "    }\n",
       "\n",
       "    .dataframe tbody tr th {\n",
       "        vertical-align: top;\n",
       "    }\n",
       "\n",
       "    .dataframe thead th {\n",
       "        text-align: right;\n",
       "    }\n",
       "</style>\n",
       "<table border=\"1\" class=\"dataframe\">\n",
       "  <thead>\n",
       "    <tr style=\"text-align: right;\">\n",
       "      <th></th>\n",
       "      <th>Age</th>\n",
       "      <th>Country</th>\n",
       "      <th>Location</th>\n",
       "      <th>Name</th>\n",
       "      <th>_id</th>\n",
       "    </tr>\n",
       "  </thead>\n",
       "  <tbody>\n",
       "    <tr>\n",
       "      <th>0</th>\n",
       "      <td>32</td>\n",
       "      <td>China</td>\n",
       "      <td>39.9127, 116.3833</td>\n",
       "      <td>Holman, Hasad O.</td>\n",
       "      <td>5c9809c0a3032a533cced78a</td>\n",
       "    </tr>\n",
       "    <tr>\n",
       "      <th>1</th>\n",
       "      <td>43</td>\n",
       "      <td>China</td>\n",
       "      <td>31.2, 121.5</td>\n",
       "      <td>Byrd, Dante A.</td>\n",
       "      <td>5c9809c0a3032a533cced7c4</td>\n",
       "    </tr>\n",
       "    <tr>\n",
       "      <th>2</th>\n",
       "      <td>57</td>\n",
       "      <td>China</td>\n",
       "      <td>45.75, 126.6333</td>\n",
       "      <td>Carney, Tamekah I.</td>\n",
       "      <td>5c9809c0a3032a533cced7d0</td>\n",
       "    </tr>\n",
       "    <tr>\n",
       "      <th>3</th>\n",
       "      <td>53</td>\n",
       "      <td>China</td>\n",
       "      <td>40, 95</td>\n",
       "      <td>Mayer, Violet U.</td>\n",
       "      <td>5c9809c0a3032a533cced7da</td>\n",
       "    </tr>\n",
       "    <tr>\n",
       "      <th>4</th>\n",
       "      <td>32</td>\n",
       "      <td>China</td>\n",
       "      <td>39.9127, 116.3833</td>\n",
       "      <td>Holman, Hasad O.</td>\n",
       "      <td>5c9809e2a3032a533cced7f5</td>\n",
       "    </tr>\n",
       "  </tbody>\n",
       "</table>\n",
       "</div>"
      ],
      "text/plain": [
       "   Age Country           Location                Name  \\\n",
       "0   32   China  39.9127, 116.3833    Holman, Hasad O.   \n",
       "1   43   China        31.2, 121.5      Byrd, Dante A.   \n",
       "2   57   China    45.75, 126.6333  Carney, Tamekah I.   \n",
       "3   53   China             40, 95    Mayer, Violet U.   \n",
       "4   32   China  39.9127, 116.3833    Holman, Hasad O.   \n",
       "\n",
       "                        _id  \n",
       "0  5c9809c0a3032a533cced78a  \n",
       "1  5c9809c0a3032a533cced7c4  \n",
       "2  5c9809c0a3032a533cced7d0  \n",
       "3  5c9809c0a3032a533cced7da  \n",
       "4  5c9809e2a3032a533cced7f5  "
      ]
     },
     "execution_count": 57,
     "metadata": {
      "tags": []
     },
     "output_type": "execute_result"
    }
   ],
   "source": [
    "pipeline = [\n",
    "        {\"$match\": {\"Country\":\"China\"}},\n",
    "]\n",
    "aggResult = collection.aggregate(pipeline)\n",
    "df2 = pd.DataFrame(list(aggResult))\n",
    "df2.head()"
   ]
  }
 ],
 "metadata": {
  "colab": {
   "collapsed_sections": [
    "MdLYImnpOlrz"
   ],
   "name": "IOD_Lab 2.1.4_ANSWER.ipynb",
   "provenance": []
  },
  "kernelspec": {
   "display_name": "Python 3",
   "language": "python",
   "name": "python3"
  },
  "language_info": {
   "codemirror_mode": {
    "name": "ipython",
    "version": 3
   },
   "file_extension": ".py",
   "mimetype": "text/x-python",
   "name": "python",
   "nbconvert_exporter": "python",
   "pygments_lexer": "ipython3",
   "version": "3.8.5"
  }
 },
 "nbformat": 4,
 "nbformat_minor": 1
}
